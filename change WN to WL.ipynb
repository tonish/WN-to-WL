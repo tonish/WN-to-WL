{
 "cells": [
  {
   "cell_type": "code",
   "execution_count": 4,
   "metadata": {},
   "outputs": [],
   "source": [
    "import spectral.io.envi as sp\n",
    "import numpy as np\n",
    "import os"
   ]
  },
  {
   "cell_type": "code",
   "execution_count": 5,
   "metadata": {},
   "outputs": [],
   "source": [
    "path = r'C:\\Users\\tonish\\OneDrive - mail.tau.ac.il\\Polymers in Canada\\originals\\Recalibrated LWIR HyperCam images\\Hypercam-LW\\bottom'\n",
    "filne_name = r'LWIR_bottom_mean.hdr'\n",
    "img = sp.open(os.path.join(path,filne_name))"
   ]
  },
  {
   "cell_type": "code",
   "execution_count": 8,
   "metadata": {},
   "outputs": [],
   "source": [
    "waves = [10000/i for i in img.bands.centers][::-1]"
   ]
  },
  {
   "cell_type": "code",
   "execution_count": 9,
   "metadata": {},
   "outputs": [
    {
     "data": {
      "text/plain": [
       "132"
      ]
     },
     "execution_count": 9,
     "metadata": {},
     "output_type": "execute_result"
    }
   ],
   "source": [
    "len(waves)"
   ]
  },
  {
   "cell_type": "code",
   "execution_count": 10,
   "metadata": {},
   "outputs": [],
   "source": [
    "new_img = np.empty_like(img.asarray())\n",
    "for band_num,band in enumerate(img.bands.centers, start=0):\n",
    "    new_img[:,:,band_num] = ((img[:,:,band_num] * band**2) / 10000).reshape(200,260)"
   ]
  },
  {
   "cell_type": "code",
   "execution_count": 11,
   "metadata": {},
   "outputs": [
    {
     "data": {
      "text/plain": [
       "(200, 260, 132)"
      ]
     },
     "execution_count": 11,
     "metadata": {},
     "output_type": "execute_result"
    }
   ],
   "source": [
    "new_img.shape"
   ]
  },
  {
   "cell_type": "code",
   "execution_count": 12,
   "metadata": {},
   "outputs": [
    {
     "name": "stdout",
     "output_type": "stream",
     "text": [
      "Saving C:\\Users\\tonish\\Desktop\\new_img_metadata.img\n"
     ]
    }
   ],
   "source": [
    "new_img_metadata = img.metadata\n",
    "new_img_metadata['wavelength'] = waves\n",
    "new_img_metadata['wavelength units'] = 'Wavelength'\n",
    "new_img_metadata['z plot titles'] = ['Wavelength (µm)', '(Radiance W/m2 sr µm)']\n",
    "sp.save_image(r'C:\\Users\\tonish\\Desktop\\new_img_metadata.hdr',new_img,metadata = new_img_metadata,force='true')"
   ]
  },
  {
   "cell_type": "code",
   "execution_count": 13,
   "metadata": {},
   "outputs": [
    {
     "data": {
      "text/plain": [
       "['Wavelength (µm)', '(Radiance W/m2 sr µm)']"
      ]
     },
     "execution_count": 13,
     "metadata": {},
     "output_type": "execute_result"
    }
   ],
   "source": [
    "img.metadata['z plot titles'] "
   ]
  },
  {
   "cell_type": "code",
   "execution_count": 14,
   "metadata": {},
   "outputs": [
    {
     "data": {
      "text/plain": [
       "(200, 260, 132)"
      ]
     },
     "execution_count": 14,
     "metadata": {},
     "output_type": "execute_result"
    }
   ],
   "source": [
    "new_img.shape"
   ]
  },
  {
   "cell_type": "code",
   "execution_count": null,
   "metadata": {},
   "outputs": [],
   "source": []
  }
 ],
 "metadata": {
  "kernelspec": {
   "display_name": "Python 3",
   "language": "python",
   "name": "python3"
  },
  "language_info": {
   "codemirror_mode": {
    "name": "ipython",
    "version": 3
   },
   "file_extension": ".py",
   "mimetype": "text/x-python",
   "name": "python",
   "nbconvert_exporter": "python",
   "pygments_lexer": "ipython3",
   "version": "3.6.4"
  }
 },
 "nbformat": 4,
 "nbformat_minor": 2
}

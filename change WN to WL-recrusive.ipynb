{
 "cells": [
  {
   "cell_type": "code",
   "execution_count": 2,
   "metadata": {},
   "outputs": [],
   "source": [
    "import spectral.io.envi as sp\n",
    "import numpy as np\n",
    "import os\n",
    "import glob"
   ]
  },
  {
   "cell_type": "code",
   "execution_count": 3,
   "metadata": {},
   "outputs": [],
   "source": [
    "path = r'\\\\remotesensinglabfs.tau.ac.il\\REMOTESENSINGLAB$\\remotesensinglab3\\Roof'\n",
    "# filne_name = r'LWIR_bottom_mean.hdr'\n",
    "\n",
    "# img = sp.open(os.path.join(path,filne_name))"
   ]
  },
  {
   "cell_type": "code",
   "execution_count": 8,
   "metadata": {},
   "outputs": [],
   "source": [
    "waves = [10000/i for i in img.bands.centers][::-1] # change the wn to wl and reverse the order"
   ]
  },
  {
   "cell_type": "code",
   "execution_count": 10,
   "metadata": {},
   "outputs": [],
   "source": [
    "#iterate every band to change from wn to wl \n",
    "# new_img = np.empty_like(img.asarray()) # empty new arrary with same dimensions\n",
    "# for band_num,band in enumerate(img.bands.centers, start=0): # iterate the bands in the images\n",
    "#     new_img[:,:,band_num] = ((img[:,:,band_num] * band**2) / 10000).reshape(200,260) #change the radiance from W/m2 sr cm-1 to µm \n",
    "# new_img = np.flip(new_img,2)"
   ]
  },
  {
   "cell_type": "code",
   "execution_count": 12,
   "metadata": {},
   "outputs": [
    {
     "name": "stdout",
     "output_type": "stream",
     "text": [
      "Saving C:\\Users\\tonish\\Desktop\\new_img_metadata.img\n"
     ]
    }
   ],
   "source": [
    "#edit metadata for envi hdr and save the image\n",
    "# new_img_metadata = img.metadata\n",
    "# new_img_metadata['wavelength'] = waves\n",
    "# new_img_metadata['wavelength units'] = 'Wavelength'\n",
    "# new_img_metadata['z plot titles'] = ['Wavelength (µm)', '(Radiance W/m2 sr µm)']\n",
    "# sp.save_image(r'C:\\Users\\tonish\\Desktop\\new_img_metadata.hdr',new_img,metadata = new_img_metadata,force='true')"
   ]
  },
  {
   "cell_type": "code",
   "execution_count": 33,
   "metadata": {},
   "outputs": [],
   "source": [
    "import os\n",
    "import sys\n",
    "reload(sys)\n",
    "sys.setdefaultencoding('utf8')\n",
    "\n",
    "imageFiles = [os.path.join(dirpath, f)\n",
    "    for dirpath, dirnames, files in os.walk(path)\n",
    "        for f in files if f.endswith('.radiance.sc')]\n",
    "hdrFiles = [os.path.join(dirpath, f)\n",
    "    for dirpath, dirnames, files in os.walk(path)\n",
    "        for f in files if f.endswith('.radiance.hdr')]\n",
    "for imgfile,hdrfile in zip(imageFiles,hdrFiles):\n",
    "    img = sp.open(hdrfile, image = imgfile)\n",
    "    # change the wn to wl and reverse the order\n",
    "    waves = [10000/i for i in img.bands.centers][::-1]\n",
    "    #iterate every band to change from wn to wl \n",
    "    new_img = np.empty_like(img.asarray()) # empty new arrary with same dimensions\n",
    "    for band_num,band in enumerate(img.bands.centers, start=0): # iterate the bands in the images\n",
    "        new_img[:,:,band_num] = ((img[:,:,band_num] * band**2) / 10000).reshape(img.shape[0],img.shape[1]) #change the radiance from W/m2 sr cm-1 to µm \n",
    "    new_img = np.flip(new_img,2)\n",
    "    #edit metadata for envi hdr and save the image\n",
    "    new_img_metadata = img.metadata\n",
    "    new_img_metadata['wavelength'] = waves\n",
    "    new_img_metadata['wavelength units'] = 'Wavelength'\n",
    "    new_img_metadata['z plot titles'] = ['Wavelength (µm)', '(Radiance W/m2 sr µm)']\n",
    "    sp.save_image(imgfile[:-12] + '_WL.hdr',new_img,metadata = new_img_metadata,force='true')"
   ]
  },
  {
   "cell_type": "code",
   "execution_count": 26,
   "metadata": {},
   "outputs": [
    {
     "data": {
      "text/plain": [
       "'\\\\\\\\remotesensinglabfs.tau.ac.il\\\\REMOTESENSINGLAB$\\\\remotesensinglab3\\\\Roof\\\\Gas\\\\20180708_135721859_Parking Lot_parking_gas_4cm_avg10\\\\20180708_135947276_parking_gas_4cm_avg10_WL'"
      ]
     },
     "execution_count": 26,
     "metadata": {},
     "output_type": "execute_result"
    }
   ],
   "source": [
    "imageFiles[0][:-12] + '_WL'"
   ]
  },
  {
   "cell_type": "code",
   "execution_count": null,
   "metadata": {},
   "outputs": [],
   "source": []
  }
 ],
 "metadata": {
  "kernelspec": {
   "display_name": "Python 2",
   "language": "python",
   "name": "python2"
  },
  "language_info": {
   "codemirror_mode": {
    "name": "ipython",
    "version": 2
   },
   "file_extension": ".py",
   "mimetype": "text/x-python",
   "name": "python",
   "nbconvert_exporter": "python",
   "pygments_lexer": "ipython2",
   "version": "2.7.15"
  }
 },
 "nbformat": 4,
 "nbformat_minor": 2
}
